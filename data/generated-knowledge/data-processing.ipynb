{
 "cells": [
  {
   "cell_type": "code",
   "execution_count": null,
   "metadata": {},
   "outputs": [],
   "source": [
    "from openai import OpenAI\n",
    "import pandas as pd \n",
    "import tqdm.notebook as tqdm\n",
    "from tenacity import retry, stop_after_attempt, wait_fixed\n",
    "\n",
    "client = OpenAI(api_key=\"\")\n",
    "\n",
    "@retry(stop=stop_after_attempt(3), wait=wait_fixed(1))\n",
    "def query_openai(prompt):\n",
    "    response = client.chat.completions.create(\n",
    "        #model=\"gpt-4-turbo-preview\",\n",
    "        model =\"gpt-3.5-turbo\",\n",
    "        messages=[\n",
    "            {\n",
    "                \"role\": \"system\",\n",
    "                \"content\": \"You are an expert in causal reasoning, logical reasoning, and commonsense question-answering.  Do not provide an intro or concluding remarks in your response.  Be as concise as you can be when responding. \"\n",
    "            },\n",
    "            {\n",
    "                \"role\": \"user\",\n",
    "                \"content\": prompt\n",
    "            }\n",
    "        ],\n",
    "        temperature=1,\n",
    "        max_tokens=256,\n",
    "        top_p=1,\n",
    "        frequency_penalty=0,\n",
    "        presence_penalty=0\n",
    "    )\n",
    "    return response.choices[0].message.content\n",
    "\n",
    "prompt_pre = \"Analyze the provided scenario to identify the underlying causal system and then generate knowledge triples that describe this system. Each triple should be formatted with a leading dash and follow this structure: \\\"- [Head Predicate]; [Relation]; [Tail Predicate]\\\". Make sure that the head and tail predicates are different, general in nature, and do not contain pronouns or specific referents. Use only these relations: cause-effect, has-contributing-factor, has-requirement, has-subevent, precedes, reacts-to, has-intent, magnifies, and mitigates. The triples should reflect general actions, events, or conditions and their typical outcomes or influences within a causal system, avoiding circular reasoning where the head and tail are the same. Do not use specifics, personal pronouns or refer to specific people or places when creating the triples. Do no use names of individuals in the triples. Create a brief title (2-3 words) and a generic description that encapsulates the general causal system, with a focus on clarity and brevity. Do no use individuals names (e.g. Sally, Bob, etc) or or proper nouns referring to specific people or places when generating the description. \\n\\nTask:\\n\\nProvide a concise description of the identified causal system.\\nGenerate a brief title for the causal system.\\nProduce non-circular knowledge triples based on the scenario. Maintain consistency in the head and tail entities across triples, avoiding repetition of the same entity in both positions, and incorporate as many of the 8 relevant relations as possible.\\nExample Scenario:\\nAir pollution in the city has worsened. What is the cause?\\n\\nExpected Output:\\nA. Title:\\nAir Pollution\\n\\nB. Description:\\nEmissions from vehicles and industries lead to deteriorating air quality.\\n\\nC. Triples:\\n- Vehicle and industrial emissions; cause-effect; worsening air quality\\n- Worsening air quality; has-contributing-factor; increased emissions\\n- Emission control policies; mitigates; worsening air quality\\n- Worsening air quality; has-requirement; pollutant monitoring\\n- Surge in emissions; precedes; public health concerns\\n- Public health measures; reacts-to; worsening air quality\\n\\nScenario:\\n\""
   ]
  },
  {
   "cell_type": "code",
   "execution_count": 2,
   "metadata": {},
   "outputs": [
    {
     "name": "stdout",
     "output_type": "stream",
     "text": [
      "Analyze the provided scenario to identify the underlying causal system and then generate knowledge triples that describe this system. Each triple should be formatted with a leading dash and follow this structure: \"- [Head Predicate]; [Relation]; [Tail Predicate]\". Make sure that the head and tail predicates are different, general in nature, and do not contain pronouns or specific referents. Use only these relations: cause-effect, has-contributing-factor, has-requirement, has-subevent, precedes, reacts-to, has-intent, magnifies, and mitigates. The triples should reflect general actions, events, or conditions and their typical outcomes or influences within a causal system, avoiding circular reasoning where the head and tail are the same. Do not use specifics, personal pronouns or refer to specific people or places when creating the triples. Do no use names of individuals in the triples. Create a brief title (2-3 words) and a generic description that encapsulates the general causal system, with a focus on clarity and brevity. Do no use individuals names (e.g. Sally, Bob, etc) or or proper nouns referring to specific people or places when generating the description. \n",
      "\n",
      "Task:\n",
      "\n",
      "Provide a concise description of the identified causal system.\n",
      "Generate a brief title for the causal system.\n",
      "Produce non-circular knowledge triples based on the scenario. Maintain consistency in the head and tail entities across triples, avoiding repetition of the same entity in both positions, and incorporate as many of the 8 relevant relations as possible.\n",
      "Example Scenario:\n",
      "Air pollution in the city has worsened. What is the cause?\n",
      "\n",
      "Expected Output:\n",
      "A. Title:\n",
      "Air Pollution\n",
      "\n",
      "B. Description:\n",
      "Emissions from vehicles and industries lead to deteriorating air quality.\n",
      "\n",
      "C. Triples:\n",
      "- Vehicle and industrial emissions; cause-effect; worsening air quality\n",
      "- Worsening air quality; has-contributing-factor; increased emissions\n",
      "- Emission control policies; mitigates; worsening air quality\n",
      "- Worsening air quality; has-requirement; pollutant monitoring\n",
      "- Surge in emissions; precedes; public health concerns\n",
      "- Public health measures; reacts-to; worsening air quality\n",
      "\n",
      "Scenario:\n",
      "\n"
     ]
    }
   ],
   "source": [
    "print(prompt_pre)"
   ]
  },
  {
   "cell_type": "code",
   "execution_count": null,
   "metadata": {},
   "outputs": [],
   "source": [
    "import re \n",
    "\n",
    "def extract_info(text):\n",
    "    text = text.lower().strip()\n",
    "    \n",
    "    info_dict = {}\n",
    "\n",
    "    # Extracting the title\n",
    "    title_match = re.search(r'Title:\\s*(.*)', text, re.IGNORECASE)\n",
    "    if title_match:\n",
    "        info_dict['title'] = title_match.group(1).strip().lower()\n",
    "\n",
    "    # Extracting the description\n",
    "    description_match = re.search(r'Desc.*:\\s*(.*)', text, re.IGNORECASE)\n",
    "    if description_match:\n",
    "        info_dict['description'] = description_match.group(1).strip().lower()\n",
    "\n",
    "    # Extracting the triples\n",
    "    triples_match = re.search(r'Triples:\\s*(.*)', text, re.IGNORECASE | re.DOTALL)\n",
    "    if triples_match:\n",
    "        triples_raw = triples_match.group(1).strip().split('\\n')\n",
    "        triples_list = [triple.strip().lstrip('- ').strip() for triple in triples_raw]\n",
    "        info_dict['triples'] = triples_list\n",
    "\n",
    "    return info_dict"
   ]
  }
 ],
 "metadata": {
  "kernelspec": {
   "display_name": "exp",
   "language": "python",
   "name": "python3"
  },
  "language_info": {
   "codemirror_mode": {
    "name": "ipython",
    "version": 3
   },
   "file_extension": ".py",
   "mimetype": "text/x-python",
   "name": "python",
   "nbconvert_exporter": "python",
   "pygments_lexer": "ipython3",
   "version": "3.10.16"
  }
 },
 "nbformat": 4,
 "nbformat_minor": 2
}
